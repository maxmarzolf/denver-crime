{
 "cells": [
  {
   "cell_type": "code",
   "execution_count": 1,
   "metadata": {},
   "outputs": [],
   "source": [
    "import pandas as pd"
   ]
  },
  {
   "cell_type": "code",
   "execution_count": 2,
   "metadata": {},
   "outputs": [],
   "source": [
    "crime_stats = pd.read_csv('crime.csv')"
   ]
  },
  {
   "cell_type": "code",
   "execution_count": 3,
   "metadata": {},
   "outputs": [
    {
     "name": "stdout",
     "output_type": "stream",
     "text": [
      "                 OFFENSE_CATEGORY_ID\n",
      "0                            larceny\n",
      "1                   all-other-crimes\n",
      "2                            larceny\n",
      "3                            larceny\n",
      "4                   all-other-crimes\n",
      "...                              ...\n",
      "454535  other-crimes-against-persons\n",
      "454536            aggravated-assault\n",
      "454537      theft-from-motor-vehicle\n",
      "454538              all-other-crimes\n",
      "454539      theft-from-motor-vehicle\n",
      "\n",
      "[454540 rows x 1 columns]\n"
     ]
    }
   ],
   "source": [
    "crime_type = crime_stats[['OFFENSE_CATEGORY_ID']]\n",
    "print(crime_type)"
   ]
  },
  {
   "cell_type": "code",
   "execution_count": 4,
   "metadata": {},
   "outputs": [
    {
     "name": "stdout",
     "output_type": "stream",
     "text": [
      "traffic-accident                111249\n",
      "all-other-crimes                 78547\n",
      "larceny                          47353\n",
      "public-disorder                  46618\n",
      "theft-from-motor-vehicle         40975\n",
      "auto-theft                       29999\n",
      "drug-alcohol                     25602\n",
      "burglary                         22672\n",
      "other-crimes-against-persons     22218\n",
      "aggravated-assault               12239\n",
      "white-collar-crime                6214\n",
      "robbery                           5994\n",
      "sexual-assault                    3933\n",
      "arson                              597\n",
      "murder                             330\n",
      "Name: OFFENSE_CATEGORY_ID, dtype: int64\n"
     ]
    }
   ],
   "source": [
    "crime_count = crime_type.OFFENSE_CATEGORY_ID.value_counts()\n",
    "print(crime_count)"
   ]
  },
  {
   "cell_type": "code",
   "execution_count": 5,
   "metadata": {},
   "outputs": [
    {
     "name": "stdout",
     "output_type": "stream",
     "text": [
      "AxesSubplot(0.125,0.125;0.775x0.755)\n"
     ]
    },
    {
     "data": {
      "image/png": "[encoded data removed]",
      "text/plain": [
       "<Figure size 432x288 with 1 Axes>"
      ]
     },
     "metadata": {
      "needs_background": "light"
     },
     "output_type": "display_data"
    }
   ],
   "source": [
    "print(crime_count.plot(kind=\"bar\"))"
   ]
  },
  {
   "cell_type": "code",
   "execution_count": null,
   "metadata": {},
   "outputs": [],
   "source": []
  }
 ],
 "metadata": {
  "kernelspec": {
   "display_name": "Python 3",
   "language": "python",
   "name": "python3"
  },
  "language_info": {
   "codemirror_mode": {
    "name": "ipython",
    "version": 3
   },
   "file_extension": ".py",
   "mimetype": "text/x-python",
   "name": "python",
   "nbconvert_exporter": "python",
   "pygments_lexer": "ipython3",
   "version": "3.8.3"
  }
 },
 "nbformat": 4,
 "nbformat_minor": 4
}
